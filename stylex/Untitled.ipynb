{
 "cells": [
  {
   "cell_type": "code",
   "execution_count": 1,
   "id": "4ba010c8-0d6f-47fd-a914-354cab35d5ad",
   "metadata": {},
   "outputs": [],
   "source": [
    "import os "
   ]
  },
  {
   "cell_type": "code",
   "execution_count": 2,
   "id": "8d0e79fc-3d06-40dd-9e3b-d6d6c4ec0ea2",
   "metadata": {},
   "outputs": [
    {
     "data": {
      "text/plain": [
       "False"
      ]
     },
     "execution_count": 2,
     "metadata": {},
     "output_type": "execute_result"
    }
   ],
   "source": [
    "os.path.isdir('thesis/thesis_experiment_1/data/Kaggle_FFHQ_Resized_256px/flickrfaceshq-dataset-nvidia-resized-256px/resized')"
   ]
  },
  {
   "cell_type": "code",
   "execution_count": 3,
   "id": "1e09cca8-7268-4fbb-9e73-2d73a6dffc9c",
   "metadata": {},
   "outputs": [
    {
     "data": {
      "text/plain": [
       "'/home/jovyan/thesis/thesis_experiment_1/stylex'"
      ]
     },
     "execution_count": 3,
     "metadata": {},
     "output_type": "execute_result"
    }
   ],
   "source": [
    "pwd"
   ]
  },
  {
   "cell_type": "code",
   "execution_count": 4,
   "id": "e6f77bad-d483-47af-af37-f49b8104b90d",
   "metadata": {},
   "outputs": [
    {
     "data": {
      "text/plain": [
       "True"
      ]
     },
     "execution_count": 4,
     "metadata": {},
     "output_type": "execute_result"
    }
   ],
   "source": [
    "os.path.isdir('../data/Kaggle_FFHQ_Resized_256px/flickrfaceshq-dataset-nvidia-resized-256px/resized_sub/')"
   ]
  },
  {
   "cell_type": "code",
   "execution_count": 4,
   "id": "50f3c9e5-2c01-409b-820e-10e4089bbfec",
   "metadata": {},
   "outputs": [
    {
     "data": {
      "text/plain": [
       "False"
      ]
     },
     "execution_count": 4,
     "metadata": {},
     "output_type": "execute_result"
    }
   ],
   "source": [
    "os.path.isdir('./trained_classifiers/R-101-GN-WS.pth.tar')"
   ]
  },
  {
   "cell_type": "code",
   "execution_count": 1,
   "id": "bc3f0a8d-3e39-4af7-b5d5-7dfb7d1ee096",
   "metadata": {},
   "outputs": [
    {
     "name": "stdout",
     "output_type": "stream",
     "text": [
      "1.12.0+cu102\n"
     ]
    }
   ],
   "source": [
    "import torch\n",
    "print(torch.__version__)"
   ]
  },
  {
   "cell_type": "code",
   "execution_count": 2,
   "id": "2470af84-c858-4407-8258-8832c3e3bd25",
   "metadata": {},
   "outputs": [
    {
     "name": "stderr",
     "output_type": "stream",
     "text": [
      "2022-07-25 23:37:51.368995: I tensorflow/core/util/util.cc:169] oneDNN custom operations are on. You may see slightly different numerical results due to floating-point round-off errors from different computation orders. To turn them off, set the environment variable `TF_ENABLE_ONEDNN_OPTS=0`.\n"
     ]
    },
    {
     "data": {
      "text/plain": [
       "'2.9.1'"
      ]
     },
     "execution_count": 2,
     "metadata": {},
     "output_type": "execute_result"
    }
   ],
   "source": [
    "import tensorflow as tf\n",
    "tf.version.VERSION"
   ]
  },
  {
   "cell_type": "code",
   "execution_count": 5,
   "id": "b0d4fc9a-513f-47de-91e0-16fabb9c85a1",
   "metadata": {},
   "outputs": [
    {
     "ename": "AttributeError",
     "evalue": "module 'uutils' has no attribute 'torch_uu'",
     "output_type": "error",
     "traceback": [
      "\u001b[0;31m---------------------------------------------------------------------------\u001b[0m",
      "\u001b[0;31mAttributeError\u001b[0m                            Traceback (most recent call last)",
      "\u001b[0;32m/tmp/ipykernel_606/1363908929.py\u001b[0m in \u001b[0;36m<module>\u001b[0;34m\u001b[0m\n\u001b[1;32m      1\u001b[0m \u001b[0;32mimport\u001b[0m \u001b[0muutils\u001b[0m\u001b[0;34m\u001b[0m\u001b[0;34m\u001b[0m\u001b[0m\n\u001b[0;32m----> 2\u001b[0;31m \u001b[0muutils\u001b[0m\u001b[0;34m.\u001b[0m\u001b[0mtorch_uu\u001b[0m\u001b[0;34m.\u001b[0m\u001b[0mgpu_test\u001b[0m\u001b[0;34m(\u001b[0m\u001b[0;34m)\u001b[0m\u001b[0;34m\u001b[0m\u001b[0;34m\u001b[0m\u001b[0m\n\u001b[0m",
      "\u001b[0;31mAttributeError\u001b[0m: module 'uutils' has no attribute 'torch_uu'"
     ]
    }
   ],
   "source": [
    "import uutils\n",
    "uutils.torch_uu.gpu_test()"
   ]
  },
  {
   "cell_type": "code",
   "execution_count": 4,
   "id": "3ed7ccd9-92cd-4839-9c4f-4a1e03a58c9f",
   "metadata": {},
   "outputs": [
    {
     "name": "stdout",
     "output_type": "stream",
     "text": [
      "Collecting uutils\n",
      "  Downloading uutils-0.0.3-py3-none-any.whl (2.7 kB)\n",
      "Installing collected packages: uutils\n",
      "Successfully installed uutils-0.0.3\n"
     ]
    }
   ],
   "source": [
    "!pip install uutils"
   ]
  },
  {
   "cell_type": "code",
   "execution_count": 6,
   "id": "89d696b5-ff42-4af7-a54a-4e7975d5c71e",
   "metadata": {},
   "outputs": [],
   "source": [
    "import torch\n",
    "from torch.cuda import device_count, get_device_capability\n",
    "\n",
    "def is_cuda_compatible():\n",
    "    compatible_device_count = 0\n",
    "    if torch.version.cuda is not None:\n",
    "        for d in range(device_count()):\n",
    "            capability = get_device_capability(d)\n",
    "            major = capability[0]\n",
    "            minor = capability[1]\n",
    "            current_arch = major * 10 + minor\n",
    "            min_arch = min((int(arch.split(\"_\")[1]) for arch in torch.cuda.get_arch_list()), default=35)\n",
    "            if (not current_arch < min_arch\n",
    "                    and not torch._C._cuda_getCompiledVersion() <= 9000):\n",
    "                compatible_device_count += 1\n",
    "\n",
    "    if compatible_device_count > 0:\n",
    "        return True\n",
    "    return False"
   ]
  },
  {
   "cell_type": "code",
   "execution_count": 7,
   "id": "226ea064-797a-400c-85b6-b031d1724236",
   "metadata": {},
   "outputs": [
    {
     "name": "stderr",
     "output_type": "stream",
     "text": [
      "/home/jovyan/.local/lib/python3.9/site-packages/torch/cuda/__init__.py:146: UserWarning: \n",
      "NVIDIA A40 with CUDA capability sm_86 is not compatible with the current PyTorch installation.\n",
      "The current PyTorch install supports CUDA capabilities sm_37 sm_50 sm_60 sm_70.\n",
      "If you want to use the NVIDIA A40 GPU with PyTorch, please check the instructions at https://pytorch.org/get-started/locally/\n",
      "\n",
      "  warnings.warn(incompatible_device_warn.format(device_name, capability, \" \".join(arch_list), device_name))\n"
     ]
    },
    {
     "data": {
      "text/plain": [
       "True"
      ]
     },
     "execution_count": 7,
     "metadata": {},
     "output_type": "execute_result"
    }
   ],
   "source": [
    "is_cuda_compatible()"
   ]
  },
  {
   "cell_type": "code",
   "execution_count": 8,
   "id": "01d948c4-a689-4ae3-a5d3-188a62719ee2",
   "metadata": {},
   "outputs": [
    {
     "data": {
      "text/plain": [
       "'10.2'"
      ]
     },
     "execution_count": 8,
     "metadata": {},
     "output_type": "execute_result"
    }
   ],
   "source": [
    "torch.version.cuda"
   ]
  },
  {
   "cell_type": "code",
   "execution_count": null,
   "id": "964597ed-de9f-4ad5-98db-3bb34b3689a4",
   "metadata": {},
   "outputs": [],
   "source": []
  }
 ],
 "metadata": {
  "kernelspec": {
   "display_name": "Python 3 (ipykernel)",
   "language": "python",
   "name": "python3"
  },
  "language_info": {
   "codemirror_mode": {
    "name": "ipython",
    "version": 3
   },
   "file_extension": ".py",
   "mimetype": "text/x-python",
   "name": "python",
   "nbconvert_exporter": "python",
   "pygments_lexer": "ipython3",
   "version": "3.9.7"
  }
 },
 "nbformat": 4,
 "nbformat_minor": 5
}
